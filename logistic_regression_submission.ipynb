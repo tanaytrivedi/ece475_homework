{
 "cells": [
  {
   "cell_type": "markdown",
   "metadata": {},
   "source": [
    "# Banknote Authorization Dataset\n",
    "[This dataset](https://archive.ics.uci.edu/ml/datasets/banknote+authentication) has various features extracted from a wavelet transformation of an image of a bank note, along with a binary label of whether the sample was fradulent or not.\n",
    "\n",
    "| variance of wavelet | skewness of wavelet | kurtosis of wavelet | entropy of image | class |\n",
    "| --- | --- | --- | --- | --- |\n",
    "| ... | ... | ... | ... | ... |"
   ]
  },
  {
   "cell_type": "code",
   "execution_count": 1,
   "metadata": {},
   "outputs": [],
   "source": [
    "%matplotlib inline"
   ]
  },
  {
   "cell_type": "code",
   "execution_count": 2,
   "metadata": {},
   "outputs": [],
   "source": [
    "import pandas as pd \n",
    "import numpy as np \n",
    "import os \n",
    "from sklearn.utils import shuffle \n"
   ]
  },
  {
   "cell_type": "code",
   "execution_count": 3,
   "metadata": {},
   "outputs": [],
   "source": [
    "import matplotlib.pyplot as plt"
   ]
  },
  {
   "cell_type": "code",
   "execution_count": 4,
   "metadata": {},
   "outputs": [],
   "source": [
    "f = os.listdir()"
   ]
  },
  {
   "cell_type": "code",
   "execution_count": 5,
   "metadata": {},
   "outputs": [],
   "source": [
    "data_2 = pd.read_csv('data_banknote_authentication.csv')\n",
    "data_2 = data_2.sample(frac = 1); \n",
    "#data = pd.DataFrame()\n",
    "#data.columns = [\"var image\", \"skew image\", \"curt image\", \"entropy image\", \"class\"]"
   ]
  },
  {
   "cell_type": "code",
   "execution_count": 6,
   "metadata": {},
   "outputs": [
    {
     "data": {
      "text/plain": [
       "Index(['Var Image', 'Skew Image', 'Curt Image', 'Entropy Image', 'Class'], dtype='object')"
      ]
     },
     "execution_count": 6,
     "metadata": {},
     "output_type": "execute_result"
    }
   ],
   "source": [
    "data_2.columns"
   ]
  },
  {
   "cell_type": "code",
   "execution_count": 7,
   "metadata": {},
   "outputs": [],
   "source": [
    "train=data_2.iloc[:int(0.8*len(data_2))]\n",
    "val=data_2.iloc[int(0.8*len(data_2)):int(0.9*len(data_2))]\n",
    "test=data_2.iloc[int(0.9*(len(data_2))):]"
   ]
  },
  {
   "cell_type": "code",
   "execution_count": 8,
   "metadata": {},
   "outputs": [],
   "source": [
    "means=train.mean()[:-1]\n",
    "stds=train.std()[:-1]"
   ]
  },
  {
   "cell_type": "code",
   "execution_count": 9,
   "metadata": {},
   "outputs": [],
   "source": [
    "prdctors=train.columns[:-1]"
   ]
  },
  {
   "cell_type": "markdown",
   "metadata": {},
   "source": [
    "# SGD and Logistic Regression Functions"
   ]
  },
  {
   "cell_type": "code",
   "execution_count": 10,
   "metadata": {},
   "outputs": [
    {
     "name": "stderr",
     "output_type": "stream",
     "text": [
      "/home/meltingpot/anaconda3/lib/python3.6/site-packages/pandas/core/frame.py:3140: SettingWithCopyWarning: \n",
      "A value is trying to be set on a copy of a slice from a DataFrame.\n",
      "Try using .loc[row_indexer,col_indexer] = value instead\n",
      "\n",
      "See the caveats in the documentation: http://pandas.pydata.org/pandas-docs/stable/indexing.html#indexing-view-versus-copy\n",
      "  self[k1] = value[k2]\n"
     ]
    }
   ],
   "source": [
    "train[prdctors]=((train[prdctors]-means)/stds)\n",
    "val[prdctors]=((val[prdctors]-means)/stds)\n",
    "test[prdctors]=((test[prdctors]-means)/stds)\n"
   ]
  },
  {
   "cell_type": "code",
   "execution_count": 11,
   "metadata": {},
   "outputs": [],
   "source": [
    "def predict(row, coefficients):\n",
    "    yhat = coefficients[0]\n",
    "    for i in range(len(row)-1):\n",
    "        yhat += coefficients[i + 1] * row[i]\n",
    "    return 1.0 / (1.0 + np.exp(-yhat))\n",
    "def coefficients_sgd(train, l_rate, n_epoch,verbose=False):\n",
    "    coef = [0.0 for i in range(len(train[0]))]\n",
    "    errors=[]\n",
    "    for epoch in range(n_epoch):\n",
    "        sum_error = 0\n",
    "        for row in train:\n",
    "            yhat = predict(row, coef)\n",
    "            error = row[-1] - yhat\n",
    "            sum_error += error**2\n",
    "            coef[0] = coef[0] + l_rate * error * yhat * (1.0 - yhat)\n",
    "            for i in range(len(row)-1):\n",
    "                coef[i + 1] = coef[i + 1] + l_rate * error * yhat * (1.0 - yhat) * row[i]\n",
    "        errors.append(sum_error)\n",
    "        if verbose:\n",
    "            print('>epoch=%d, lrate=%.3f, error=%.3f' % (epoch, l_rate, sum_error))\n",
    "    return coef,errors"
   ]
  },
  {
   "cell_type": "markdown",
   "metadata": {},
   "source": [
    "# No Regularization"
   ]
  },
  {
   "cell_type": "code",
   "execution_count": 12,
   "metadata": {
    "scrolled": false
   },
   "outputs": [
    {
     "name": "stdout",
     "output_type": "stream",
     "text": [
      ">epoch=0, lrate=0.300, error=54.141\n",
      ">epoch=1, lrate=0.300, error=23.150\n",
      ">epoch=2, lrate=0.300, error=18.917\n",
      ">epoch=3, lrate=0.300, error=16.901\n",
      ">epoch=4, lrate=0.300, error=15.657\n",
      ">epoch=5, lrate=0.300, error=14.789\n",
      ">epoch=6, lrate=0.300, error=14.137\n",
      ">epoch=7, lrate=0.300, error=13.625\n",
      ">epoch=8, lrate=0.300, error=13.207\n",
      ">epoch=9, lrate=0.300, error=12.858\n",
      ">epoch=10, lrate=0.300, error=12.560\n",
      ">epoch=11, lrate=0.300, error=12.302\n",
      ">epoch=12, lrate=0.300, error=12.075\n",
      ">epoch=13, lrate=0.300, error=11.874\n",
      ">epoch=14, lrate=0.300, error=11.694\n",
      ">epoch=15, lrate=0.300, error=11.531\n",
      ">epoch=16, lrate=0.300, error=11.383\n",
      ">epoch=17, lrate=0.300, error=11.247\n",
      ">epoch=18, lrate=0.300, error=11.123\n",
      ">epoch=19, lrate=0.300, error=11.008\n",
      ">epoch=20, lrate=0.300, error=10.901\n",
      ">epoch=21, lrate=0.300, error=10.801\n",
      ">epoch=22, lrate=0.300, error=10.709\n",
      ">epoch=23, lrate=0.300, error=10.622\n",
      ">epoch=24, lrate=0.300, error=10.540\n",
      ">epoch=25, lrate=0.300, error=10.463\n",
      ">epoch=26, lrate=0.300, error=10.390\n",
      ">epoch=27, lrate=0.300, error=10.321\n",
      ">epoch=28, lrate=0.300, error=10.256\n",
      ">epoch=29, lrate=0.300, error=10.193\n",
      ">epoch=30, lrate=0.300, error=10.134\n",
      ">epoch=31, lrate=0.300, error=10.078\n",
      ">epoch=32, lrate=0.300, error=10.024\n",
      ">epoch=33, lrate=0.300, error=9.972\n",
      ">epoch=34, lrate=0.300, error=9.923\n",
      ">epoch=35, lrate=0.300, error=9.876\n",
      ">epoch=36, lrate=0.300, error=9.830\n",
      ">epoch=37, lrate=0.300, error=9.787\n",
      ">epoch=38, lrate=0.300, error=9.745\n",
      ">epoch=39, lrate=0.300, error=9.704\n",
      ">epoch=40, lrate=0.300, error=9.665\n",
      ">epoch=41, lrate=0.300, error=9.628\n",
      ">epoch=42, lrate=0.300, error=9.591\n",
      ">epoch=43, lrate=0.300, error=9.556\n",
      ">epoch=44, lrate=0.300, error=9.522\n",
      ">epoch=45, lrate=0.300, error=9.489\n",
      ">epoch=46, lrate=0.300, error=9.457\n",
      ">epoch=47, lrate=0.300, error=9.426\n",
      ">epoch=48, lrate=0.300, error=9.397\n",
      ">epoch=49, lrate=0.300, error=9.367\n",
      ">epoch=50, lrate=0.300, error=9.339\n",
      ">epoch=51, lrate=0.300, error=9.312\n",
      ">epoch=52, lrate=0.300, error=9.285\n",
      ">epoch=53, lrate=0.300, error=9.259\n",
      ">epoch=54, lrate=0.300, error=9.234\n",
      ">epoch=55, lrate=0.300, error=9.209\n",
      ">epoch=56, lrate=0.300, error=9.185\n",
      ">epoch=57, lrate=0.300, error=9.162\n",
      ">epoch=58, lrate=0.300, error=9.139\n",
      ">epoch=59, lrate=0.300, error=9.117\n",
      ">epoch=60, lrate=0.300, error=9.095\n",
      ">epoch=61, lrate=0.300, error=9.074\n",
      ">epoch=62, lrate=0.300, error=9.053\n",
      ">epoch=63, lrate=0.300, error=9.033\n",
      ">epoch=64, lrate=0.300, error=9.013\n",
      ">epoch=65, lrate=0.300, error=8.994\n",
      ">epoch=66, lrate=0.300, error=8.975\n",
      ">epoch=67, lrate=0.300, error=8.956\n",
      ">epoch=68, lrate=0.300, error=8.938\n",
      ">epoch=69, lrate=0.300, error=8.921\n",
      ">epoch=70, lrate=0.300, error=8.903\n",
      ">epoch=71, lrate=0.300, error=8.886\n",
      ">epoch=72, lrate=0.300, error=8.870\n",
      ">epoch=73, lrate=0.300, error=8.853\n",
      ">epoch=74, lrate=0.300, error=8.837\n",
      ">epoch=75, lrate=0.300, error=8.822\n",
      ">epoch=76, lrate=0.300, error=8.806\n",
      ">epoch=77, lrate=0.300, error=8.791\n",
      ">epoch=78, lrate=0.300, error=8.776\n",
      ">epoch=79, lrate=0.300, error=8.762\n",
      ">epoch=80, lrate=0.300, error=8.747\n",
      ">epoch=81, lrate=0.300, error=8.733\n",
      ">epoch=82, lrate=0.300, error=8.719\n",
      ">epoch=83, lrate=0.300, error=8.706\n",
      ">epoch=84, lrate=0.300, error=8.693\n",
      ">epoch=85, lrate=0.300, error=8.679\n",
      ">epoch=86, lrate=0.300, error=8.667\n",
      ">epoch=87, lrate=0.300, error=8.654\n",
      ">epoch=88, lrate=0.300, error=8.641\n",
      ">epoch=89, lrate=0.300, error=8.629\n",
      ">epoch=90, lrate=0.300, error=8.617\n",
      ">epoch=91, lrate=0.300, error=8.605\n",
      ">epoch=92, lrate=0.300, error=8.594\n",
      ">epoch=93, lrate=0.300, error=8.582\n",
      ">epoch=94, lrate=0.300, error=8.571\n",
      ">epoch=95, lrate=0.300, error=8.560\n",
      ">epoch=96, lrate=0.300, error=8.549\n",
      ">epoch=97, lrate=0.300, error=8.538\n",
      ">epoch=98, lrate=0.300, error=8.527\n",
      ">epoch=99, lrate=0.300, error=8.517\n",
      "[-3.613083977613246, -7.6759149623126852, -8.7076959330962342, -7.8531065419519779, -0.18408001467761498]\n"
     ]
    }
   ],
   "source": [
    "dataset = train.values\n",
    "l_rate = 0.3\n",
    "n_epoch = 100\n",
    "coef,errors = coefficients_sgd(dataset, l_rate, n_epoch,verbose=True)\n",
    "print(coef)"
   ]
  },
  {
   "cell_type": "code",
   "execution_count": 31,
   "metadata": {},
   "outputs": [
    {
     "data": {
      "text/plain": [
       "Text(0,0.5,'Error')"
      ]
     },
     "execution_count": 31,
     "metadata": {},
     "output_type": "execute_result"
    },
    {
     "data": {
      "image/png": "[encoded data removed]",
      "text/plain": [
       "<Figure size 432x288 with 1 Axes>"
      ]
     },
     "metadata": {},
     "output_type": "display_data"
    }
   ],
   "source": [
    "plt.plot(errors)\n",
    "plt.title(\"Traning Classification Error, Logistic Regression\")\n",
    "plt.xlabel(\"Epochs\")\n",
    "plt.ylabel(\"Error\")"
   ]
  },
  {
   "cell_type": "markdown",
   "metadata": {},
   "source": [
    "![title](img/confusion_matrix2.png)"
   ]
  },
  {
   "cell_type": "code",
   "execution_count": 14,
   "metadata": {},
   "outputs": [],
   "source": [
    "conf_matrix=pd.DataFrame(np.zeros((2,2)),columns=[0,1],index=[0,1])\n",
    "for i in val.values:\n",
    "    conf_matrix.loc[i[-1],round(predict(i,coef))]+=1"
   ]
  },
  {
   "cell_type": "code",
   "execution_count": 15,
   "metadata": {},
   "outputs": [],
   "source": [
    "conf_matrix.columns=[\"predict_0\",\"predict_1\"]\n",
    "conf_matrix.index=[\"actual_0\",\"actual_1\"]"
   ]
  },
  {
   "cell_type": "code",
   "execution_count": 16,
   "metadata": {},
   "outputs": [
    {
     "data": {
      "text/html": [
       "<div>\n",
       "<style scoped>\n",
       "    .dataframe tbody tr th:only-of-type {\n",
       "        vertical-align: middle;\n",
       "    }\n",
       "\n",
       "    .dataframe tbody tr th {\n",
       "        vertical-align: top;\n",
       "    }\n",
       "\n",
       "    .dataframe thead th {\n",
       "        text-align: right;\n",
       "    }\n",
       "</style>\n",
       "<table border=\"1\" class=\"dataframe\">\n",
       "  <thead>\n",
       "    <tr style=\"text-align: right;\">\n",
       "      <th></th>\n",
       "      <th>predict_0</th>\n",
       "      <th>predict_1</th>\n",
       "    </tr>\n",
       "  </thead>\n",
       "  <tbody>\n",
       "    <tr>\n",
       "      <th>actual_0</th>\n",
       "      <td>73.0</td>\n",
       "      <td>2.0</td>\n",
       "    </tr>\n",
       "    <tr>\n",
       "      <th>actual_1</th>\n",
       "      <td>0.0</td>\n",
       "      <td>62.0</td>\n",
       "    </tr>\n",
       "  </tbody>\n",
       "</table>\n",
       "</div>"
      ],
      "text/plain": [
       "          predict_0  predict_1\n",
       "actual_0       73.0        2.0\n",
       "actual_1        0.0       62.0"
      ]
     },
     "execution_count": 16,
     "metadata": {},
     "output_type": "execute_result"
    }
   ],
   "source": [
    "conf_matrix"
   ]
  },
  {
   "cell_type": "code",
   "execution_count": 17,
   "metadata": {},
   "outputs": [],
   "source": [
    "acc=np.diag(conf_matrix.values).sum()/conf_matrix.values.sum()"
   ]
  },
  {
   "cell_type": "code",
   "execution_count": 18,
   "metadata": {},
   "outputs": [
    {
     "data": {
      "text/plain": [
       "0.98540145985401462"
      ]
     },
     "execution_count": 18,
     "metadata": {},
     "output_type": "execute_result"
    }
   ],
   "source": [
    "acc"
   ]
  },
  {
   "cell_type": "markdown",
   "metadata": {},
   "source": [
    "# L2 Reg"
   ]
  },
  {
   "cell_type": "code",
   "execution_count": 32,
   "metadata": {},
   "outputs": [],
   "source": [
    "def coefficients_sgd_l2(train, l_rate, n_epoch,lambd,verbose=False):\n",
    "    coef=np.zeros(len(train[0]))\n",
    "    errors=[]\n",
    "    for epoch in range(n_epoch):\n",
    "        sum_error = 0\n",
    "        for row in train:\n",
    "            yhat = predict(row, coef)\n",
    "            error = row[-1] - yhat\n",
    "            sum_error += error**2\n",
    "            coef[0] = coef[0] + l_rate *(-lambd*coef[0]+ error * yhat * (1.0 - yhat))\n",
    "            for i in range(len(row)-1):\n",
    "                coef[i + 1] = coef[i + 1] + l_rate *(-lambd*coef[i+1] + error * yhat * (1.0 - yhat) * row[i])\n",
    "        errors.append(sum_error)\n",
    "        if verbose:\n",
    "            print('>epoch=%d, lrate=%.4f, error=%.3f' % (epoch, l_rate, sum_error))\n",
    "    return coef,errors"
   ]
  },
  {
   "cell_type": "code",
   "execution_count": 48,
   "metadata": {
    "scrolled": true
   },
   "outputs": [],
   "source": [
    "dataset = train.values\n",
    "l_rate = 0.0001\n",
    "n_epoch = 1000\n",
    "\n",
    "\n",
    "coef,errors_ridge = coefficients_sgd_l2(dataset, l_rate, n_epoch,0.1,verbose=False)"
   ]
  },
  {
   "cell_type": "code",
   "execution_count": 49,
   "metadata": {},
   "outputs": [
    {
     "data": {
      "text/plain": [
       "Text(0,0.5,'Error')"
      ]
     },
     "execution_count": 49,
     "metadata": {},
     "output_type": "execute_result"
    },
    {
     "data": {
      "image/png": "[encoded data removed]",
      "text/plain": [
       "<Figure size 432x288 with 1 Axes>"
      ]
     },
     "metadata": {},
     "output_type": "display_data"
    }
   ],
   "source": [
    "plt.plot(errors_ridge)\n",
    "plt.title(\"Traning Classification Error, Logistic Regression with L2 Reg\")\n",
    "plt.xlabel(\"Epochs\")\n",
    "plt.ylabel(\"Error\")"
   ]
  },
  {
   "cell_type": "code",
   "execution_count": 50,
   "metadata": {},
   "outputs": [],
   "source": [
    "conf_matrix=pd.DataFrame(np.zeros((2,2)),columns=[0,1],index=[0,1])\n",
    "for i in val.values:\n",
    "    conf_matrix.loc[i[-1],round(predict(i,coef))]+=1"
   ]
  },
  {
   "cell_type": "code",
   "execution_count": 51,
   "metadata": {},
   "outputs": [],
   "source": [
    "conf_matrix.columns=[\"predict_0\",\"predict_1\"]\n",
    "conf_matrix.index=[\"actual_0\",\"actual_1\"]"
   ]
  },
  {
   "cell_type": "code",
   "execution_count": 52,
   "metadata": {},
   "outputs": [
    {
     "data": {
      "text/html": [
       "<div>\n",
       "<style scoped>\n",
       "    .dataframe tbody tr th:only-of-type {\n",
       "        vertical-align: middle;\n",
       "    }\n",
       "\n",
       "    .dataframe tbody tr th {\n",
       "        vertical-align: top;\n",
       "    }\n",
       "\n",
       "    .dataframe thead th {\n",
       "        text-align: right;\n",
       "    }\n",
       "</style>\n",
       "<table border=\"1\" class=\"dataframe\">\n",
       "  <thead>\n",
       "    <tr style=\"text-align: right;\">\n",
       "      <th></th>\n",
       "      <th>predict_0</th>\n",
       "      <th>predict_1</th>\n",
       "    </tr>\n",
       "  </thead>\n",
       "  <tbody>\n",
       "    <tr>\n",
       "      <th>actual_0</th>\n",
       "      <td>70.0</td>\n",
       "      <td>5.0</td>\n",
       "    </tr>\n",
       "    <tr>\n",
       "      <th>actual_1</th>\n",
       "      <td>10.0</td>\n",
       "      <td>52.0</td>\n",
       "    </tr>\n",
       "  </tbody>\n",
       "</table>\n",
       "</div>"
      ],
      "text/plain": [
       "          predict_0  predict_1\n",
       "actual_0       70.0        5.0\n",
       "actual_1       10.0       52.0"
      ]
     },
     "execution_count": 52,
     "metadata": {},
     "output_type": "execute_result"
    }
   ],
   "source": [
    "conf_matrix"
   ]
  },
  {
   "cell_type": "code",
   "execution_count": 53,
   "metadata": {},
   "outputs": [
    {
     "data": {
      "text/plain": [
       "0.89051094890510951"
      ]
     },
     "execution_count": 53,
     "metadata": {},
     "output_type": "execute_result"
    }
   ],
   "source": [
    "acc=np.diag(conf_matrix.values).sum()/conf_matrix.values.sum()\n",
    "acc"
   ]
  },
  {
   "cell_type": "markdown",
   "metadata": {},
   "source": [
    "## Scale"
   ]
  },
  {
   "cell_type": "code",
   "execution_count": 65,
   "metadata": {},
   "outputs": [],
   "source": [
    "lambdas=np.logspace(start=-2.5,stop=0.085)\n",
    "lambdas=lambdas[lambdas<1]"
   ]
  },
  {
   "cell_type": "code",
   "execution_count": 66,
   "metadata": {},
   "outputs": [
    {
     "data": {
      "text/plain": [
       "array([ 0.00316228,  0.00357071,  0.0040319 ,  0.00455266,  0.00514068,\n",
       "        0.00580464,  0.00655436,  0.00740092,  0.00835682,  0.00943617,\n",
       "        0.01065494,  0.01203112,  0.01358505,  0.01533968,  0.01732094,\n",
       "        0.01955809,  0.0220842 ,  0.02493657,  0.02815735,  0.03179413,\n",
       "        0.03590063,  0.04053752,  0.0457733 ,  0.05168534,  0.05836096,\n",
       "        0.06589881,  0.07441023,  0.08402098,  0.09487305,  0.10712676,\n",
       "        0.12096314,  0.13658662,  0.15422801,  0.17414795,  0.19664073,\n",
       "        0.22203865,  0.25071694,  0.28309929,  0.31966411,  0.36095161,\n",
       "        0.40757176,  0.46021332,  0.51965401,  0.58677201,  0.6625589 ,\n",
       "        0.74813434,  0.84476263,  0.95387133])"
      ]
     },
     "execution_count": 66,
     "metadata": {},
     "output_type": "execute_result"
    }
   ],
   "source": [
    "lambdas"
   ]
  },
  {
   "cell_type": "code",
   "execution_count": 70,
   "metadata": {},
   "outputs": [],
   "source": [
    "accs=pd.DataFrame(index=lambdas,columns=[\"acc\"])\n",
    "coefs=[]\n",
    "for j in lambdas:\n",
    "    coef,_ = coefficients_sgd_l2(dataset, l_rate, 500,j)\n",
    "    coefs.append(coef)\n",
    "    conf_matrix=pd.DataFrame(np.zeros((2,2)),columns=[0,1],index=[0,1])\n",
    "    for i in val.values:\n",
    "        conf_matrix.loc[i[-1],round(predict(i,coef))]+=1\n",
    "    acc=np.diag(conf_matrix.values).sum()/conf_matrix.values.sum()\n",
    "    accs.loc[j,\"acc\"]=acc"
   ]
  },
  {
   "cell_type": "code",
   "execution_count": 82,
   "metadata": {},
   "outputs": [
    {
     "data": {
      "text/plain": [
       "Text(0,0.5,'Val Acc')"
      ]
     },
     "execution_count": 82,
     "metadata": {},
     "output_type": "execute_result"
    },
    {
     "data": {
      "image/png": "[encoded data removed]",
      "text/plain": [
       "<Figure size 432x288 with 1 Axes>"
      ]
     },
     "metadata": {},
     "output_type": "display_data"
    }
   ],
   "source": [
    "accs.plot()\n",
    "plt.title(\"Val accuracy as a function of L2 Lambda\")\n",
    "plt.xlabel(\"Lambda\")\n",
    "plt.ylabel(\"Val Acc\")"
   ]
  },
  {
   "cell_type": "markdown",
   "metadata": {},
   "source": [
    "# Out of Sample Comparison"
   ]
  },
  {
   "cell_type": "code",
   "execution_count": 75,
   "metadata": {},
   "outputs": [],
   "source": [
    "ridge_coef=coefs[0]\n",
    "normal_coef,errors = coefficients_sgd(dataset, l_rate, n_epoch,verbose=False)\n"
   ]
  },
  {
   "cell_type": "code",
   "execution_count": 76,
   "metadata": {},
   "outputs": [],
   "source": [
    "ridge_conf_matrix=pd.DataFrame(np.zeros((2,2)),columns=[0,1],index=[0,1])\n",
    "for i in test.values:\n",
    "    ridge_conf_matrix.loc[i[-1],round(predict(i,ridge_coef))]+=1"
   ]
  },
  {
   "cell_type": "code",
   "execution_count": 77,
   "metadata": {},
   "outputs": [
    {
     "data": {
      "text/html": [
       "<div>\n",
       "<style scoped>\n",
       "    .dataframe tbody tr th:only-of-type {\n",
       "        vertical-align: middle;\n",
       "    }\n",
       "\n",
       "    .dataframe tbody tr th {\n",
       "        vertical-align: top;\n",
       "    }\n",
       "\n",
       "    .dataframe thead th {\n",
       "        text-align: right;\n",
       "    }\n",
       "</style>\n",
       "<table border=\"1\" class=\"dataframe\">\n",
       "  <thead>\n",
       "    <tr style=\"text-align: right;\">\n",
       "      <th></th>\n",
       "      <th>0</th>\n",
       "      <th>1</th>\n",
       "    </tr>\n",
       "  </thead>\n",
       "  <tbody>\n",
       "    <tr>\n",
       "      <th>0</th>\n",
       "      <td>71.0</td>\n",
       "      <td>3.0</td>\n",
       "    </tr>\n",
       "    <tr>\n",
       "      <th>1</th>\n",
       "      <td>4.0</td>\n",
       "      <td>60.0</td>\n",
       "    </tr>\n",
       "  </tbody>\n",
       "</table>\n",
       "</div>"
      ],
      "text/plain": [
       "      0     1\n",
       "0  71.0   3.0\n",
       "1   4.0  60.0"
      ]
     },
     "execution_count": 77,
     "metadata": {},
     "output_type": "execute_result"
    }
   ],
   "source": [
    "ridge_conf_matrix"
   ]
  },
  {
   "cell_type": "code",
   "execution_count": 78,
   "metadata": {},
   "outputs": [
    {
     "data": {
      "text/plain": [
       "0.94927536231884058"
      ]
     },
     "execution_count": 78,
     "metadata": {},
     "output_type": "execute_result"
    }
   ],
   "source": [
    "np.diag(ridge_conf_matrix.values).sum()/ridge_conf_matrix.values.sum()"
   ]
  },
  {
   "cell_type": "code",
   "execution_count": 79,
   "metadata": {},
   "outputs": [],
   "source": [
    "norm_conf_matrix=pd.DataFrame(np.zeros((2,2)),columns=[0,1],index=[0,1])\n",
    "for i in test.values:\n",
    "    norm_conf_matrix.loc[i[-1],round(predict(i,normal_coef))]+=1"
   ]
  },
  {
   "cell_type": "code",
   "execution_count": 80,
   "metadata": {},
   "outputs": [
    {
     "data": {
      "text/html": [
       "<div>\n",
       "<style scoped>\n",
       "    .dataframe tbody tr th:only-of-type {\n",
       "        vertical-align: middle;\n",
       "    }\n",
       "\n",
       "    .dataframe tbody tr th {\n",
       "        vertical-align: top;\n",
       "    }\n",
       "\n",
       "    .dataframe thead th {\n",
       "        text-align: right;\n",
       "    }\n",
       "</style>\n",
       "<table border=\"1\" class=\"dataframe\">\n",
       "  <thead>\n",
       "    <tr style=\"text-align: right;\">\n",
       "      <th></th>\n",
       "      <th>0</th>\n",
       "      <th>1</th>\n",
       "    </tr>\n",
       "  </thead>\n",
       "  <tbody>\n",
       "    <tr>\n",
       "      <th>0</th>\n",
       "      <td>72.0</td>\n",
       "      <td>2.0</td>\n",
       "    </tr>\n",
       "    <tr>\n",
       "      <th>1</th>\n",
       "      <td>2.0</td>\n",
       "      <td>62.0</td>\n",
       "    </tr>\n",
       "  </tbody>\n",
       "</table>\n",
       "</div>"
      ],
      "text/plain": [
       "      0     1\n",
       "0  72.0   2.0\n",
       "1   2.0  62.0"
      ]
     },
     "execution_count": 80,
     "metadata": {},
     "output_type": "execute_result"
    }
   ],
   "source": [
    "norm_conf_matrix"
   ]
  },
  {
   "cell_type": "code",
   "execution_count": 81,
   "metadata": {},
   "outputs": [
    {
     "data": {
      "text/plain": [
       "0.97101449275362317"
      ]
     },
     "execution_count": 81,
     "metadata": {},
     "output_type": "execute_result"
    }
   ],
   "source": [
    "np.diag(norm_conf_matrix.values).sum()/norm_conf_matrix.values.sum()"
   ]
  },
  {
   "cell_type": "markdown",
   "metadata": {},
   "source": [
    "Normal Logistic Regression accuracy is higher."
   ]
  }
 ],
 "metadata": {
  "kernelspec": {
   "display_name": "Python [default]",
   "language": "python",
   "name": "python3"
  },
  "language_info": {
   "codemirror_mode": {
    "name": "ipython",
    "version": 3
   },
   "file_extension": ".py",
   "mimetype": "text/x-python",
   "name": "python",
   "nbconvert_exporter": "python",
   "pygments_lexer": "ipython3",
   "version": "3.6.3"
  }
 },
 "nbformat": 4,
 "nbformat_minor": 2
}
